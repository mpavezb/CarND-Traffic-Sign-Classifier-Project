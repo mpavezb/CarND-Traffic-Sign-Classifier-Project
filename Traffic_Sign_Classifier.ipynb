{
 "cells": [
  {
   "cell_type": "markdown",
   "metadata": {},
   "source": [
    "# Self-Driving Car Engineer Nanodegree\n",
    "\n",
    "## Deep Learning\n",
    "\n",
    "## Project: Build a Traffic Sign Recognition Classifier\n",
    "\n"
   ]
  },
  {
   "cell_type": "markdown",
   "metadata": {},
   "source": [
    "---\n",
    "## Step 0: Load The Data"
   ]
  },
  {
   "cell_type": "code",
   "execution_count": 1,
   "metadata": {},
   "outputs": [
    {
     "name": "stdout",
     "output_type": "stream",
     "text": [
      "ok\n"
     ]
    }
   ],
   "source": [
    "# Load pickled data\n",
    "import pickle\n",
    "\n",
    "training_file = \"traffic-signs-data/train.p\"\n",
    "validation_file= \"traffic-signs-data/valid.p\"\n",
    "testing_file = \"traffic-signs-data/test.p\"\n",
    "\n",
    "with open(training_file, mode='rb') as f:\n",
    "    train = pickle.load(f)\n",
    "with open(validation_file, mode='rb') as f:\n",
    "    valid = pickle.load(f)\n",
    "with open(testing_file, mode='rb') as f:\n",
    "    test = pickle.load(f)\n",
    "\n",
    "X_train, y_train = train['features'], train['labels']\n",
    "X_valid, y_valid = valid['features'], valid['labels']\n",
    "X_test, y_test = test['features'], test['labels']\n",
    "\n",
    "print(\"ok\")"
   ]
  },
  {
   "cell_type": "markdown",
   "metadata": {},
   "source": [
    "---\n",
    "\n",
    "## Step 1: Dataset Summary & Exploration\n",
    "\n",
    "The pickled data is a dictionary with 4 key/value pairs:\n",
    "\n",
    "- `'features'` is a 4D array containing raw pixel data of the traffic sign images, (num examples, width, height, channels).\n",
    "- `'labels'` is a 1D array containing the label/class id of the traffic sign. The file `signnames.csv` contains id -> name mappings for each id.\n",
    "- `'sizes'` is a list containing tuples, (width, height) representing the original width and height the image.\n",
    "- `'coords'` is a list containing tuples, (x1, y1, x2, y2) representing coordinates of a bounding box around the sign in the image. **THESE COORDINATES ASSUME THE ORIGINAL IMAGE. THE PICKLED DATA CONTAINS RESIZED VERSIONS (32 by 32) OF THESE IMAGES**\n",
    "\n",
    "Complete the basic data summary below. Use python, numpy and/or pandas methods to calculate the data summary rather than hard coding the results. For example, the [pandas shape method](http://pandas.pydata.org/pandas-docs/stable/generated/pandas.DataFrame.shape.html) might be useful for calculating some of the summary results. "
   ]
  },
  {
   "cell_type": "markdown",
   "metadata": {},
   "source": [
    "### Provide a Basic Summary of the Data Set Using Python, Numpy and/or Pandas"
   ]
  },
  {
   "cell_type": "code",
   "execution_count": 2,
   "metadata": {},
   "outputs": [
    {
     "name": "stdout",
     "output_type": "stream",
     "text": [
      "Total number of examples = 51839\n",
      "Number of training examples = 34799 (%67.1)\n",
      "Number of validation examples = 4410 (%8.5)\n",
      "Number of testing examples = 12630 (%24.4)\n",
      "Image data shape = (32, 32, 3)\n",
      "Number of classes = 43\n"
     ]
    }
   ],
   "source": [
    "import numpy as np\n",
    "\n",
    "# Number of training examples\n",
    "n_train = y_train.size\n",
    "\n",
    "# Number of validation examples\n",
    "n_validation = y_valid.size\n",
    "\n",
    "# Number of testing examples.\n",
    "n_test = y_test.size\n",
    "\n",
    "n_total = n_train + n_validation + n_test\n",
    "p_train = 100.0 * n_train / n_total\n",
    "p_validation = 100.0 * n_validation / n_total\n",
    "p_test = 100.0 * n_test / n_total\n",
    "\n",
    "# What's the shape of an traffic sign image?\n",
    "image_shape = train['features'][0].shape\n",
    "\n",
    "# How many unique classes/labels there are in the dataset.\n",
    "all_labels = np.unique(np.concatenate((y_train, y_valid, y_test)))\n",
    "n_classes = all_labels.size\n",
    "\n",
    "print(\"Total number of examples = %d\" % (n_total))\n",
    "print(\"Number of training examples = %d (%%%.1f)\" % (n_train, p_train))\n",
    "print(\"Number of validation examples = %d (%%%.1f)\" % (n_validation, p_validation))\n",
    "print(\"Number of testing examples = %d (%%%.1f)\" % (n_test, p_test))\n",
    "print(\"Image data shape =\", image_shape)\n",
    "print(\"Number of classes =\", n_classes)"
   ]
  },
  {
   "cell_type": "markdown",
   "metadata": {},
   "source": [
    "### Include an exploratory visualization of the dataset"
   ]
  },
  {
   "cell_type": "markdown",
   "metadata": {},
   "source": [
    "Visualize the German Traffic Signs Dataset using the pickled file(s). This is open ended, suggestions include: plotting traffic sign images, plotting the count of each sign, etc. \n",
    "\n",
    "The [Matplotlib](http://matplotlib.org/) [examples](http://matplotlib.org/examples/index.html) and [gallery](http://matplotlib.org/gallery.html) pages are a great resource for doing visualizations in Python.\n",
    "\n",
    "**NOTE:** It's recommended you start with something simple first. If you wish to do more, come back to it after you've completed the rest of the sections. It can be interesting to look at the distribution of classes in the training, validation and test set. Is the distribution the same? Are there more examples of some classes than others?"
   ]
  },
  {
   "cell_type": "code",
   "execution_count": 3,
   "metadata": {},
   "outputs": [
    {
     "name": "stdout",
     "output_type": "stream",
     "text": [
      "Displaying sample data from train set:\n",
      " - index in set: 32010\n",
      " - label id: 2\n",
      " - label name: Speed limit (50km/h)\n",
      " - sample shape:  (32, 32, 3)\n",
      " - min pixel: 19\n",
      " - max pixel: 255\n",
      " - maybe normalized min pixel: 19\n",
      " - maybe normalized max pixel: 255\n"
     ]
    },
    {
     "data": {
      "image/png": "[encoded data removed]",
      "text/plain": [
       "<matplotlib.figure.Figure at 0x7fe18c4b5860>"
      ]
     },
     "metadata": {
      "needs_background": "light"
     },
     "output_type": "display_data"
    }
   ],
   "source": [
    "### Data exploration visualization code goes here.\n",
    "### Feel free to use as many code cells as needed.\n",
    "import matplotlib.pyplot as plt\n",
    "# Visualizations will be shown in the notebook.\n",
    "%matplotlib inline\n",
    "\n",
    "import random\n",
    "import csv\n",
    "\n",
    "signnames = dict()\n",
    "with open('signnames.csv', mode='r') as infile:\n",
    "    reader = csv.DictReader(infile)\n",
    "    for row in reader:\n",
    "        class_id = row['ClassId']\n",
    "        sign_name = row['SignName']\n",
    "        signnames[class_id] = sign_name\n",
    "\n",
    "def unnormalize_feature(feature):\n",
    "    output = feature.copy()\n",
    "    if output.dtype == np.float32:\n",
    "        print(\"Restoring normalized feature\")\n",
    "        output = output * 128 + 128\n",
    "        output = output.astype(np.uint8)\n",
    "    return output\n",
    "\n",
    "def display_sample_info(X_set, y_set):\n",
    "    sample_idx = random.randint(0, y_set.size-1)\n",
    "    sample_label_id = y_set[sample_idx]\n",
    "    sample_label_name = signnames[str(sample_label_id)]\n",
    "    maybe_normalized_sample_feature = X_set[sample_idx]\n",
    "    sample_feature = unnormalize_feature(X_set[sample_idx])\n",
    "\n",
    "    print(\"Displaying sample data from train set:\")\n",
    "    print(\" - index in set: %d\" % sample_idx)\n",
    "    print(\" - label id: %d\" % sample_label_id)\n",
    "    print(\" - label name: %s\" % sample_label_name)\n",
    "    print(\" - sample shape: \", sample_feature.shape)\n",
    "    print(\" - min pixel:\", np.min(sample_feature))\n",
    "    print(\" - max pixel:\", np.max(sample_feature))\n",
    "    print(\" - maybe normalized min pixel:\", np.min(maybe_normalized_sample_feature))\n",
    "    print(\" - maybe normalized max pixel:\", np.max(maybe_normalized_sample_feature))\n",
    "    plt.imshow(sample_feature)\n",
    "\n",
    "display_sample_info(X_train, y_train)"
   ]
  },
  {
   "cell_type": "markdown",
   "metadata": {},
   "source": [
    "----\n",
    "\n",
    "## Step 2: Design and Test a Model Architecture\n",
    "\n",
    "Design and implement a deep learning model that learns to recognize traffic signs. Train and test your model on the [German Traffic Sign Dataset](http://benchmark.ini.rub.de/?section=gtsrb&subsection=dataset).\n",
    "\n",
    "The LeNet-5 implementation shown in the [classroom](https://classroom.udacity.com/nanodegrees/nd013/parts/fbf77062-5703-404e-b60c-95b78b2f3f9e/modules/6df7ae49-c61c-4bb2-a23e-6527e69209ec/lessons/601ae704-1035-4287-8b11-e2c2716217ad/concepts/d4aca031-508f-4e0b-b493-e7b706120f81) at the end of the CNN lesson is a solid starting point. You'll have to change the number of classes and possibly the preprocessing, but aside from that it's plug and play! \n",
    "\n",
    "With the LeNet-5 solution from the lecture, you should expect a validation set accuracy of about 0.89. To meet specifications, the validation set accuracy will need to be at least 0.93. It is possible to get an even higher accuracy, but 0.93 is the minimum for a successful project submission. \n",
    "\n",
    "There are various aspects to consider when thinking about this problem:\n",
    "\n",
    "- Neural network architecture (is the network over or underfitting?)\n",
    "- Play around preprocessing techniques (normalization, rgb to grayscale, etc)\n",
    "- Number of examples per label (some have more than others).\n",
    "- Generate fake data.\n",
    "\n",
    "Here is an example of a [published baseline model on this problem](http://yann.lecun.com/exdb/publis/pdf/sermanet-ijcnn-11.pdf). It's not required to be familiar with the approach used in the paper but, it's good practice to try to read papers like these."
   ]
  },
  {
   "cell_type": "markdown",
   "metadata": {},
   "source": [
    "### Pre-process the Data Set (normalization, grayscale, etc.)"
   ]
  },
  {
   "cell_type": "markdown",
   "metadata": {},
   "source": [
    "Minimally, the image data should be normalized so that the data has mean zero and equal variance. For image data, `(pixel - 128)/ 128` is a quick way to approximately normalize the data and can be used in this project. \n",
    "\n",
    "Other pre-processing steps are optional. You can try different techniques to see if it improves performance. "
   ]
  },
  {
   "cell_type": "code",
   "execution_count": 4,
   "metadata": {
    "scrolled": true
   },
   "outputs": [
    {
     "name": "stdout",
     "output_type": "stream",
     "text": [
      "Applying Normalization over data set ...\n",
      "Applying Normalization over data set ...\n",
      "Applying Normalization over data set ...\n"
     ]
    }
   ],
   "source": [
    "# Normalize the data\n",
    "def normalize_set(data):\n",
    "    if data.dtype != np.float32:\n",
    "        print(\"Applying Normalization over data set ...\")\n",
    "        data = data.astype(np.float32)\n",
    "        data = (data - 128)/128\n",
    "    else:\n",
    "        print(\"set type is already {}.\".format(data.dtype))\n",
    "    return data\n",
    "\n",
    "X_train = normalize_set(X_train)\n",
    "X_valid = normalize_set(X_valid)\n",
    "X_test = normalize_set(X_test)"
   ]
  },
  {
   "cell_type": "markdown",
   "metadata": {},
   "source": [
    "### Model Architecture"
   ]
  },
  {
   "cell_type": "code",
   "execution_count": 5,
   "metadata": {},
   "outputs": [],
   "source": [
    "### Define your architecture here.\n",
    "### Feel free to use as many code cells as needed.\n",
    "import tensorflow as tf\n",
    "from tensorflow.contrib.layers import flatten\n",
    "\n",
    "EPOCHS = 20\n",
    "BATCH_SIZE = 128\n",
    "\n",
    "def LeNet(x, keep_prob):    \n",
    "    # Arguments used for tf.truncated_normal, randomly defines variables for the weights and biases for each layer\n",
    "    mu = 0\n",
    "    sigma = 0.1\n",
    "    \n",
    "    # =======================\n",
    "    # Layer 1\n",
    "    # =======================\n",
    "    # Convolutional. Input = 32x32x3. Output = 28x28x6.\n",
    "    conv1_W = tf.Variable(tf.truncated_normal(shape=(5, 5, 3, 6), mean = mu, stddev = sigma))\n",
    "    conv1_b = tf.Variable(tf.zeros(6))\n",
    "    conv1   = tf.nn.conv2d(x, conv1_W, strides=[1, 1, 1, 1], padding='VALID') + conv1_b\n",
    "    # Activation.\n",
    "    conv1 = tf.nn.relu(conv1)\n",
    "    # Pooling. Input = 28x28x6. Output = 14x14x6.\n",
    "    conv1 = tf.nn.max_pool(conv1, ksize=[1, 2, 2, 1], strides=[1, 2, 2, 1], padding='VALID')\n",
    "\n",
    "    # =======================\n",
    "    # Layer 2\n",
    "    # =======================\n",
    "    # Convolutional. Output = 10x10x16.\n",
    "    conv2_W = tf.Variable(tf.truncated_normal(shape=(5, 5, 6, 16), mean = mu, stddev = sigma))\n",
    "    conv2_b = tf.Variable(tf.zeros(16))\n",
    "    conv2   = tf.nn.conv2d(conv1, conv2_W, strides=[1, 1, 1, 1], padding='VALID') + conv2_b\n",
    "    # Activation.\n",
    "    conv2 = tf.nn.relu(conv2)\n",
    "    # Pooling. Input = 10x10x16. Output = 5x5x16.\n",
    "    conv2 = tf.nn.max_pool(conv2, ksize=[1, 2, 2, 1], strides=[1, 2, 2, 1], padding='VALID')\n",
    "    # Flatten. Input = 5x5x16. Output = 400.\n",
    "    fc0   = flatten(conv2)\n",
    "    \n",
    "    # =======================\n",
    "    # Layer 3\n",
    "    # =======================\n",
    "    # Fully Connected. Input = 400. Output = 120.\n",
    "    fc1_W = tf.Variable(tf.truncated_normal(shape=(400, 120), mean = mu, stddev = sigma))\n",
    "    fc1_b = tf.Variable(tf.zeros(120))\n",
    "    fc1   = tf.matmul(fc0, fc1_W) + fc1_b\n",
    "    # Activation.\n",
    "    fc1 = tf.nn.relu(fc1)\n",
    "    # Dropout\n",
    "    fc1 = tf.nn.dropout(fc1, keep_prob)\n",
    "\n",
    "    # =======================\n",
    "    # Layer 4\n",
    "    # =======================\n",
    "    # Fully Connected. Input = 120. Output = 84.\n",
    "    fc2_W  = tf.Variable(tf.truncated_normal(shape=(120, 84), mean = mu, stddev = sigma))\n",
    "    fc2_b  = tf.Variable(tf.zeros(84))\n",
    "    fc2    = tf.matmul(fc1, fc2_W) + fc2_b\n",
    "    # Activation.\n",
    "    fc2 = tf.nn.relu(fc2)\n",
    "    # Dropout\n",
    "    fc2 = tf.nn.dropout(fc2, keep_prob)\n",
    "\n",
    "    # =======================\n",
    "    # Layer 5\n",
    "    # =======================\n",
    "    # Fully Connected. Input = 84. Output = 43.\n",
    "    fc3_W  = tf.Variable(tf.truncated_normal(shape=(84, 43), mean = mu, stddev = sigma))\n",
    "    fc3_b  = tf.Variable(tf.zeros(43))\n",
    "    logits = tf.matmul(fc2, fc3_W) + fc3_b\n",
    "    \n",
    "    return logits"
   ]
  },
  {
   "cell_type": "markdown",
   "metadata": {},
   "source": [
    "### Features and Labels"
   ]
  },
  {
   "cell_type": "code",
   "execution_count": 6,
   "metadata": {},
   "outputs": [],
   "source": [
    "# x is a placeholder for a batch of input images.\n",
    "# y is a placeholder for a batch of output labels.\n",
    "# Batch size is initialized to None, so it can receive a batch size of any size.\n",
    "x = tf.placeholder(tf.float32, (None, 32, 32, 3))\n",
    "y = tf.placeholder(tf.int32, (None))\n",
    "\n",
    "# probability to keep units during dropout\n",
    "keep_prob = tf.placeholder(tf.float32) \n",
    "\n",
    "# one hot encoded ground truth\n",
    "one_hot_y = tf.one_hot(y, 43)"
   ]
  },
  {
   "cell_type": "markdown",
   "metadata": {},
   "source": [
    "### Training Pipeline\n",
    "\n",
    "The training pipeline is encoded in the `training_operation` variable."
   ]
  },
  {
   "cell_type": "code",
   "execution_count": 7,
   "metadata": {},
   "outputs": [],
   "source": [
    "rate = 0.001\n",
    "\n",
    "# Pipeline:\n",
    "# 1. Run LeNet on the input data.\n",
    "# 2. Compare Logits to the ground truth labels and calculate the cross-entropy.\n",
    "# 3. Keep averaged cross-entropy over all training images.\n",
    "# 4. Use Adam Optimizer instead og S.G.D.\n",
    "# 5. Run the uptimizer which uses back-propagation.\n",
    "logits = LeNet(x, keep_prob)\n",
    "cross_entropy = tf.nn.softmax_cross_entropy_with_logits(labels=one_hot_y, logits=logits)\n",
    "loss_operation = tf.reduce_mean(cross_entropy)\n",
    "optimizer = tf.train.AdamOptimizer(learning_rate = rate)\n",
    "training_operation = optimizer.minimize(loss_operation)"
   ]
  },
  {
   "cell_type": "markdown",
   "metadata": {},
   "source": [
    "### Model Evaluation\n",
    "A validation set can be used to assess how well the model is performing. A low accuracy on the training and validation\n",
    "sets imply underfitting. A high accuracy on the training set but low accuracy on the validation set implies overfitting."
   ]
  },
  {
   "cell_type": "code",
   "execution_count": 8,
   "metadata": {},
   "outputs": [],
   "source": [
    "# 1. Compare logit to the one hot encoding of ground truth labels.\n",
    "correct_prediction = tf.equal(tf.argmax(logits, 1), tf.argmax(one_hot_y, 1))\n",
    "\n",
    "# 2. Calculate pipeline accuracy by averaging individual prediction accuracies.\n",
    "accuracy_operation = tf.reduce_mean(tf.cast(correct_prediction, tf.float32))\n",
    "\n",
    "# 3. Average the Accuracy of each batch to compute the total accuracy of the model\n",
    "def evaluate(X_data, y_data):\n",
    "    num_examples = len(X_data)\n",
    "    total_accuracy = 0\n",
    "    sess = tf.get_default_session()\n",
    "    for offset in range(0, num_examples, BATCH_SIZE):\n",
    "        batch_x, batch_y = X_data[offset:offset+BATCH_SIZE], y_data[offset:offset+BATCH_SIZE]\n",
    "        accuracy = sess.run(accuracy_operation, feed_dict={x: batch_x, y: batch_y, keep_prob: 1.0})\n",
    "        total_accuracy += (accuracy * len(batch_x))\n",
    "    return total_accuracy / num_examples"
   ]
  },
  {
   "cell_type": "markdown",
   "metadata": {},
   "source": [
    "### Train the Model\n",
    "\n",
    "* The data is shuffled before each epoch.\n",
    "* Loss and Accuracy are measured on the validation set\n",
    "* Model is saved after training\n"
   ]
  },
  {
   "cell_type": "code",
   "execution_count": 9,
   "metadata": {},
   "outputs": [
    {
     "name": "stderr",
     "output_type": "stream",
     "text": [
      "/root/miniconda3/envs/carnd-term1/lib/python3.5/site-packages/sklearn/utils/fixes.py:313: FutureWarning: numpy not_equal will not check object identity in the future. The comparison did not return the same result as suggested by the identity (`is`)) and will change.\n",
      "  _nan_object_mask = _nan_object_array != _nan_object_array\n"
     ]
    },
    {
     "name": "stdout",
     "output_type": "stream",
     "text": [
      "Training...\n",
      "\n",
      "EPOCH 1 ...\n",
      "Validation Accuracy = 0.573\n",
      "Elapsed: 0:00:42\n",
      "\n",
      "EPOCH 2 ...\n",
      "Validation Accuracy = 0.788\n",
      "Elapsed: 0:00:36\n",
      "\n",
      "EPOCH 3 ...\n",
      "Validation Accuracy = 0.862\n",
      "Elapsed: 0:00:35\n",
      "\n",
      "EPOCH 4 ...\n",
      "Validation Accuracy = 0.884\n",
      "Elapsed: 0:00:35\n",
      "\n",
      "EPOCH 5 ...\n",
      "Validation Accuracy = 0.885\n",
      "Elapsed: 0:00:35\n",
      "\n",
      "EPOCH 6 ...\n",
      "Validation Accuracy = 0.923\n",
      "Elapsed: 0:00:35\n",
      "\n",
      "EPOCH 7 ...\n",
      "Validation Accuracy = 0.919\n",
      "Elapsed: 0:00:35\n",
      "\n",
      "EPOCH 8 ...\n",
      "Validation Accuracy = 0.925\n",
      "Elapsed: 0:00:35\n",
      "\n",
      "EPOCH 9 ...\n",
      "Validation Accuracy = 0.933\n",
      "Elapsed: 0:00:35\n",
      "\n",
      "EPOCH 10 ...\n",
      "Validation Accuracy = 0.937\n",
      "Elapsed: 0:00:35\n",
      "\n",
      "EPOCH 11 ...\n",
      "Validation Accuracy = 0.941\n",
      "Elapsed: 0:00:35\n",
      "\n",
      "EPOCH 12 ...\n",
      "Validation Accuracy = 0.941\n",
      "Elapsed: 0:00:35\n",
      "\n",
      "EPOCH 13 ...\n",
      "Validation Accuracy = 0.940\n",
      "Elapsed: 0:00:35\n",
      "\n",
      "EPOCH 14 ...\n",
      "Validation Accuracy = 0.945\n",
      "Elapsed: 0:00:35\n",
      "\n",
      "EPOCH 15 ...\n",
      "Validation Accuracy = 0.946\n",
      "Elapsed: 0:00:35\n",
      "\n",
      "EPOCH 16 ...\n",
      "Validation Accuracy = 0.944\n",
      "Elapsed: 0:00:35\n",
      "\n",
      "EPOCH 17 ...\n",
      "Validation Accuracy = 0.946\n",
      "Elapsed: 0:00:35\n",
      "\n",
      "EPOCH 18 ...\n",
      "Validation Accuracy = 0.949\n",
      "Elapsed: 0:00:35\n",
      "\n",
      "EPOCH 19 ...\n",
      "Validation Accuracy = 0.948\n",
      "Elapsed: 0:00:35\n",
      "\n",
      "EPOCH 20 ...\n",
      "Validation Accuracy = 0.951\n",
      "Elapsed: 0:00:35\n",
      "\n",
      "Elapsed: 0:11:56\n",
      "Model saved\n"
     ]
    }
   ],
   "source": [
    "from sklearn.utils import shuffle\n",
    "import time\n",
    "from datetime import timedelta\n",
    "\n",
    "def display_elapsed(start_time):\n",
    "    elapsed = time.time() - start_time\n",
    "    elapsed_str = str(timedelta(seconds=elapsed)).split(\".\")[0]\n",
    "    print(\"Elapsed: {}\".format(elapsed_str))\n",
    "\n",
    "saver = tf.train.Saver()\n",
    "with tf.Session() as sess:\n",
    "    sess.run(tf.global_variables_initializer())\n",
    "    num_examples = len(X_train)\n",
    "    \n",
    "    print(\"Training...\")\n",
    "    print()\n",
    "    start_time = time.time()    \n",
    "    for i in range(EPOCHS):\n",
    "        epoch_start_time = time.time()\n",
    "        \n",
    "        # shuffle to eliminate bias on image order\n",
    "        X_train, y_train = shuffle(X_train, y_train)\n",
    "        \n",
    "        # train each batch\n",
    "        for offset in range(0, num_examples, BATCH_SIZE):\n",
    "            end = offset + BATCH_SIZE\n",
    "            batch_x, batch_y = X_train[offset:end], y_train[offset:end]\n",
    "            sess.run(training_operation, feed_dict={x: batch_x, y: batch_y, keep_prob: 0.5})\n",
    "            \n",
    "        # evaluate model on validation data\n",
    "        validation_accuracy = evaluate(X_valid, y_valid)\n",
    "        print(\"EPOCH {} ...\".format(i+1))\n",
    "        print(\"Validation Accuracy = {:.3f}\".format(validation_accuracy))\n",
    "        display_elapsed(epoch_start_time)\n",
    "        print()    \n",
    "    \n",
    "    display_elapsed(start_time)\n",
    "    saver.save(sess, './lenet')\n",
    "    print(\"Model saved\")"
   ]
  },
  {
   "cell_type": "markdown",
   "metadata": {},
   "source": [
    "### Model Evaluation on the Test Set\n",
    "\n",
    "Once you are completely satisfied with your model, evaluate the performance of the model on the test set.\n",
    "\n",
    "Be sure to only do this once!\n",
    "\n",
    "If you were to measure the performance of your trained model on the test set, then improve your model, and then measure the performance of your model on the test set again, that would invalidate your test results. You wouldn't get a true measure of how well your model would perform against real data.\n",
    "\n",
    "You do not need to modify this section."
   ]
  },
  {
   "cell_type": "code",
   "execution_count": 10,
   "metadata": {},
   "outputs": [
    {
     "name": "stdout",
     "output_type": "stream",
     "text": [
      "INFO:tensorflow:Restoring parameters from ./lenet\n",
      "Test Accuracy = 0.938\n"
     ]
    }
   ],
   "source": [
    "with tf.Session() as sess:\n",
    "    saver.restore(sess, tf.train.latest_checkpoint('.'))\n",
    "\n",
    "    test_accuracy = evaluate(X_test, y_test)\n",
    "    print(\"Test Accuracy = {:.3f}\".format(test_accuracy))"
   ]
  },
  {
   "cell_type": "markdown",
   "metadata": {},
   "source": [
    "---\n",
    "\n",
    "## Step 3: Test a Model on New Images\n",
    "\n",
    "To give yourself more insight into how your model is working, download at least five pictures of German traffic signs from the web and use your model to predict the traffic sign type.\n",
    "\n",
    "You may find `signnames.csv` useful as it contains mappings from the class id (integer) to the actual sign name."
   ]
  },
  {
   "cell_type": "markdown",
   "metadata": {},
   "source": [
    "### Load and Output the Images"
   ]
  },
  {
   "cell_type": "code",
   "execution_count": 11,
   "metadata": {},
   "outputs": [
    {
     "name": "stdout",
     "output_type": "stream",
     "text": [
      "Loading image: web_sample/sample_id12.png\n",
      "Loading image: web_sample/sample_id14.png\n",
      "Loading image: web_sample/sample_id17.png\n",
      "Loading image: web_sample/sample_id18.png\n",
      "Loading image: web_sample/sample_id25.png\n",
      "Loading image: web_sample/sample_id35.png\n",
      "Loading image: web_sample/sample_id38.png\n",
      "Loading image: web_sample/sample_id7.png\n",
      "Loading image: web_sample/sample_id_11.png\n"
     ]
    },
    {
     "data": {
      "image/png": "[encoded data removed]",
      "text/plain": [
       "<matplotlib.figure.Figure at 0x7fe149f09080>"
      ]
     },
     "metadata": {
      "needs_background": "light"
     },
     "output_type": "display_data"
    },
    {
     "name": "stdout",
     "output_type": "stream",
     "text": [
      "Applying Normalization over data set ...\n",
      "Collected Data: (9, 32, 32, 3)\n",
      "Restoring normalized feature\n",
      "Displaying sample data from train set:\n",
      " - index in set: 5\n",
      " - label id: 35\n",
      " - label name: Ahead only\n",
      " - sample shape:  (32, 32, 3)\n",
      " - min pixel: 0\n",
      " - max pixel: 204\n",
      " - maybe normalized min pixel: -1.0\n",
      " - maybe normalized max pixel: 0.59375\n"
     ]
    },
    {
     "data": {
      "image/png": "[encoded data removed]",
      "text/plain": [
       "<matplotlib.figure.Figure at 0x7fe13c187470>"
      ]
     },
     "metadata": {
      "needs_background": "light"
     },
     "output_type": "display_data"
    }
   ],
   "source": [
    "### Load the images and plot them here.\n",
    "### Feel free to use as many code cells as needed.\n",
    "import glob\n",
    "import cv2\n",
    "import re\n",
    "import numpy as np\n",
    "import matplotlib.pyplot as plt\n",
    "\n",
    "images = glob.glob(\"web_sample/*.png\")\n",
    "X_web = []\n",
    "y_web = []\n",
    "\n",
    "def get_sample_id(fname):\n",
    "    regex = re.compile(r'\\d+')\n",
    "    return int(regex.search(fname).group(0))\n",
    "\n",
    "f, axs = plt.subplots(1, len(images), figsize=(10, 2))\n",
    "f.tight_layout()\n",
    "for idx, fname in enumerate(sorted(images)):\n",
    "    print(\"Loading image: {}\".format(fname))\n",
    "    I = cv2.imread(fname)\n",
    "    I = cv2.cvtColor(I, cv2.COLOR_BGR2RGB)\n",
    "    \n",
    "    # save\n",
    "    sample_id = get_sample_id(fname)\n",
    "    X_web.append(I)\n",
    "    y_web.append(sample_id)\n",
    "    \n",
    "    # display\n",
    "    axs[idx].imshow(I)\n",
    "    axs[idx].axis(\"off\")\n",
    "    \n",
    "plt.show()\n",
    "\n",
    "# as numpy\n",
    "X_web = np.array(X_web)\n",
    "y_web = np.array(y_web)\n",
    "\n",
    "# preprocessing\n",
    "X_web = normalize_set(X_web)\n",
    "\n",
    "# display info\n",
    "print(\"Collected Data: {}\".format(X_web.shape))\n",
    "display_sample_info(X_web, y_web)\n"
   ]
  },
  {
   "cell_type": "markdown",
   "metadata": {},
   "source": [
    "### Predict the Sign Type for Each Image"
   ]
  },
  {
   "cell_type": "code",
   "execution_count": 12,
   "metadata": {},
   "outputs": [
    {
     "name": "stdout",
     "output_type": "stream",
     "text": [
      "INFO:tensorflow:Restoring parameters from ./lenet\n",
      "Web Test Accuracy = 1.000\n"
     ]
    }
   ],
   "source": [
    "with tf.Session() as sess:\n",
    "    saver.restore(sess, tf.train.latest_checkpoint('.'))\n",
    "\n",
    "    test_accuracy = evaluate(X_web, y_web)\n",
    "    print(\"Web Test Accuracy = {:.3f}\".format(test_accuracy))"
   ]
  },
  {
   "cell_type": "markdown",
   "metadata": {},
   "source": [
    "### Output Top 5 Softmax Probabilities For Each Image Found on the Web"
   ]
  },
  {
   "cell_type": "code",
   "execution_count": 13,
   "metadata": {},
   "outputs": [
    {
     "name": "stdout",
     "output_type": "stream",
     "text": [
      "INFO:tensorflow:Restoring parameters from ./lenet\n",
      "TopKV2(values=array([[ 34. ,   1.9,  -0.6,  -1. ,  -2.1],\n",
      "       [ 31.6,   6.8,   2.3,  -5. ,  -5.2],\n",
      "       [ 23.8,   5.2,  -1.2,  -1.3,  -1.4],\n",
      "       [ 57.1,  32.9,  11.2,   6.7,   5.1],\n",
      "       [ 38.9,   8.9,   7.1,   5.8,   1.8],\n",
      "       [ 49. ,  15.2,  12.7,   0.8,  -4.3],\n",
      "       [ 58.2,  29.4,  11.6,  -4.8,  -6.2],\n",
      "       [ 23.2,  14.8,  13.8,   3.8,  -2.3],\n",
      "       [ 38. ,  23. ,  14.9,  11.3,   3.9]], dtype=float32), indices=array([[12, 10, 26, 17, 11],\n",
      "       [14, 29, 17, 15,  1],\n",
      "       [17, 14, 26, 10, 12],\n",
      "       [18, 26, 27,  4, 22],\n",
      "       [25, 29, 22, 24, 20],\n",
      "       [35, 33, 34, 12,  3],\n",
      "       [38, 34, 36, 25, 32],\n",
      "       [ 7,  5,  8,  1, 31],\n",
      "       [11, 30, 28, 21, 27]], dtype=int32))\n"
     ]
    }
   ],
   "source": [
    "np.set_printoptions(precision=1)\n",
    "np.set_printoptions(suppress=True)\n",
    "\n",
    "check_top_5_operation = tf.nn.top_k(logits, k=5)\n",
    "\n",
    "def check_web_results(X_data, y_data):\n",
    "    sess = tf.get_default_session()\n",
    "    return sess.run(check_top_5_operation, feed_dict={x: X_data, y: y_data, keep_prob: 1.0})    \n",
    "\n",
    "with tf.Session() as sess:\n",
    "    saver.restore(sess, tf.train.latest_checkpoint('.'))   \n",
    "    results = check_web_results(X_web, y_web)\n",
    "    print(results)"
   ]
  },
  {
   "cell_type": "markdown",
   "metadata": {},
   "source": [
    "### Project Writeup\n",
    "\n",
    "Once you have completed the code implementation, document your results in a project writeup using this [template](https://github.com/udacity/CarND-Traffic-Sign-Classifier-Project/blob/master/writeup_template.md) as a guide. The writeup can be in a markdown or pdf file. "
   ]
  },
  {
   "cell_type": "markdown",
   "metadata": {},
   "source": [
    "> **Note**: Once you have completed all of the code implementations and successfully answered each question above, you may finalize your work by exporting the iPython Notebook as an HTML document. You can do this by using the menu above and navigating to  \\n\",\n",
    "    \"**File -> Download as -> HTML (.html)**. Include the finished document along with this notebook as your submission."
   ]
  },
  {
   "cell_type": "markdown",
   "metadata": {},
   "source": [
    "---\n",
    "\n",
    "## Step 4 (Optional): Visualize the Neural Network's State with Test Images\n",
    "\n",
    " This Section is not required to complete but acts as an additional excersise for understaning the output of a neural network's weights. While neural networks can be a great learning device they are often referred to as a black box. We can understand what the weights of a neural network look like better by plotting their feature maps. After successfully training your neural network you can see what it's feature maps look like by plotting the output of the network's weight layers in response to a test stimuli image. From these plotted feature maps, it's possible to see what characteristics of an image the network finds interesting. For a sign, maybe the inner network feature maps react with high activation to the sign's boundary outline or to the contrast in the sign's painted symbol.\n",
    "\n",
    " Provided for you below is the function code that allows you to get the visualization output of any tensorflow weight layer you want. The inputs to the function should be a stimuli image, one used during training or a new one you provided, and then the tensorflow variable name that represents the layer's state during the training process, for instance if you wanted to see what the [LeNet lab's](https://classroom.udacity.com/nanodegrees/nd013/parts/fbf77062-5703-404e-b60c-95b78b2f3f9e/modules/6df7ae49-c61c-4bb2-a23e-6527e69209ec/lessons/601ae704-1035-4287-8b11-e2c2716217ad/concepts/d4aca031-508f-4e0b-b493-e7b706120f81) feature maps looked like for it's second convolutional layer you could enter conv2 as the tf_activation variable.\n",
    "\n",
    "For an example of what feature map outputs look like, check out NVIDIA's results in their paper [End-to-End Deep Learning for Self-Driving Cars](https://devblogs.nvidia.com/parallelforall/deep-learning-self-driving-cars/) in the section Visualization of internal CNN State. NVIDIA was able to show that their network's inner weights had high activations to road boundary lines by comparing feature maps from an image with a clear path to one without. Try experimenting with a similar test to show that your trained network's weights are looking for interesting features, whether it's looking at differences in feature maps from images with or without a sign, or even what feature maps look like in a trained network vs a completely untrained one on the same sign image.\n",
    "\n",
    "<figure>\n",
    " <img src=\"visualize_cnn.png\" width=\"380\" alt=\"Combined Image\" />\n",
    " <figcaption>\n",
    " <p></p> \n",
    " <p style=\"text-align: center;\"> Your output should look something like this (above)</p> \n",
    " </figcaption>\n",
    "</figure>\n",
    " <p></p> \n"
   ]
  },
  {
   "cell_type": "code",
   "execution_count": null,
   "metadata": {},
   "outputs": [],
   "source": [
    "### Visualize your network's feature maps here.\n",
    "### Feel free to use as many code cells as needed.\n",
    "\n",
    "# image_input: the test image being fed into the network to produce the feature maps\n",
    "# tf_activation: should be a tf variable name used during your training procedure that represents the calculated state of a specific weight layer\n",
    "# activation_min/max: can be used to view the activation contrast in more detail, by default matplot sets min and max to the actual min and max values of the output\n",
    "# plt_num: used to plot out multiple different weight feature map sets on the same block, just extend the plt number for each new feature map entry\n",
    "\n",
    "def outputFeatureMap(image_input, tf_activation, activation_min=-1, activation_max=-1 ,plt_num=1):\n",
    "    # Here make sure to preprocess your image_input in a way your network expects\n",
    "    # with size, normalization, ect if needed\n",
    "    # image_input =\n",
    "    # Note: x should be the same name as your network's tensorflow data placeholder variable\n",
    "    # If you get an error tf_activation is not defined it may be having trouble accessing the variable from inside a function\n",
    "    activation = tf_activation.eval(session=sess,feed_dict={x : image_input})\n",
    "    featuremaps = activation.shape[3]\n",
    "    plt.figure(plt_num, figsize=(15,15))\n",
    "    for featuremap in range(featuremaps):\n",
    "        plt.subplot(6,8, featuremap+1) # sets the number of feature maps to show on each row and column\n",
    "        plt.title('FeatureMap ' + str(featuremap)) # displays the feature map number\n",
    "        if activation_min != -1 & activation_max != -1:\n",
    "            plt.imshow(activation[0,:,:, featuremap], interpolation=\"nearest\", vmin =activation_min, vmax=activation_max, cmap=\"gray\")\n",
    "        elif activation_max != -1:\n",
    "            plt.imshow(activation[0,:,:, featuremap], interpolation=\"nearest\", vmax=activation_max, cmap=\"gray\")\n",
    "        elif activation_min !=-1:\n",
    "            plt.imshow(activation[0,:,:, featuremap], interpolation=\"nearest\", vmin=activation_min, cmap=\"gray\")\n",
    "        else:\n",
    "            plt.imshow(activation[0,:,:, featuremap], interpolation=\"nearest\", cmap=\"gray\")"
   ]
  }
 ],
 "metadata": {
  "anaconda-cloud": {},
  "kernelspec": {
   "display_name": "Python 3",
   "language": "python",
   "name": "python3"
  },
  "language_info": {
   "codemirror_mode": {
    "name": "ipython",
    "version": 3
   },
   "file_extension": ".py",
   "mimetype": "text/x-python",
   "name": "python",
   "nbconvert_exporter": "python",
   "pygments_lexer": "ipython3",
   "version": "3.5.2"
  },
  "widgets": {
   "state": {},
   "version": "1.1.2"
  }
 },
 "nbformat": 4,
 "nbformat_minor": 1
}
